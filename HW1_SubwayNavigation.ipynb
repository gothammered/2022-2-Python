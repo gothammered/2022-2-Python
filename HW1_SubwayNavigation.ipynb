{
  "nbformat": 4,
  "nbformat_minor": 0,
  "metadata": {
    "colab": {
      "provenance": [],
      "name": "HW1_SubwayNavigation.ipynb",
      "collapsed_sections": [],
      "authorship_tag": "ABX9TyMCGxGcuxmA5yMel9ut5TMa",
      "include_colab_link": true
    },
    "kernelspec": {
      "name": "python3",
      "display_name": "Python 3"
    },
    "language_info": {
      "name": "python"
    }
  },
  "cells": [
    {
      "cell_type": "markdown",
      "metadata": {
        "id": "view-in-github",
        "colab_type": "text"
      },
      "source": [
        "<a href=\"https://colab.research.google.com/github/gothammered/2022-2-Python/blob/main/HW1_SubwayNavigation.ipynb\" target=\"_parent\"><img src=\"https://colab.research.google.com/assets/colab-badge.svg\" alt=\"Open In Colab\"/></a>"
      ]
    },
    {
      "cell_type": "markdown",
      "source": [
        "Hello world"
      ],
      "metadata": {
        "id": "hUEY7eZ716zi"
      }
    },
    {
      "cell_type": "code",
      "execution_count": 1,
      "metadata": {
        "colab": {
          "base_uri": "https://localhost:8080/"
        },
        "id": "S1c4K-IQ1rL5",
        "outputId": "53b50885-8401-434c-a6e5-43eeeb03eca7"
      },
      "outputs": [
        {
          "output_type": "stream",
          "name": "stdout",
          "text": [
            "[['Soyosan', 'Dongducheon', 'Bosan', 'Dongducheon jungang', 'Jihaeng', 'Deokjeong', 'Deokgye', 'Yangju', 'Nogyang', 'Ganeung', 'Uijeongbu', 'Hoeryong', 'Mangwolsa', 'Dobongsan', 'Dobong', 'Banghak', 'Chang-dong', 'Nokcheon', 'Wolgye', 'Kwangwoon Univ.', 'Seokgye', 'Sinimun', 'Hankuk Univ. of Foreign Studies', 'Hoegi', 'Cheongnyangni', 'Jegi-dong', 'Sinseol-dong', 'Dongmyo', 'Dongdaemun', 'Jongno 5(o)-ga', 'Jongno 3(sam)-ga', 'Jonggak', 'City Hall', 'Seoul Station', 'Namyeong', 'Yongsan', 'Noryangjin', 'Daebang', 'Singil', 'Yeongdeungpo', 'Sindorim', 'Guro', 'Guil', 'Gaebong', 'Oryu-dong', 'Onsu', 'Yeokgok', 'Sosa', 'Bucheon', 'Jung-dong', 'Songnae', 'Bugae', 'Bupyeong', 'Baegun', 'Dongam', 'Ganseok', 'Juan', 'Dohwa', 'Jemulpo', 'Dowon', 'Dongincheon', 'Incheon'], ['Sindorim', 'Daerim', 'Guro Digital Complex', 'Sindaebang', 'Sillim', 'Bongcheon', 'Seoul Nat`l Univ.', 'Nakseongdae', 'Sadang', 'Bangbae', 'Seocho', 'Seoul Nat`l Univ. of Education', 'Gangnam', 'Yeoksam', 'Seolleung', 'Samseong', 'Sports Complex', 'Jamsilsaenae Station', 'Jamsil', 'Jamsillaru', 'Gangbyeon', 'Guui', 'Konkuk Univ.', 'Seongsu', 'Ttukseom', 'Hanyang Univ.', 'Wangsimni', 'Sangwangsimni', 'Sindang', 'Dongdaemun History  Culture Park', 'Euljiro 4(sa)-ga', 'Euljiro 3(sam)-ga', 'Euljiro 1(il)-ga', 'City Hall', 'Chungjeongno', 'Ahyeon', 'Ewha Womans Univ.', 'Sinchon', 'Hongik Univ.', 'Hapjeong', 'Dangsan', 'Yeongdeungpo-gu Office', 'Mullae'], ['Daehwa', 'Juyeop', 'Jeongbalsan', 'Madu', 'Baekseok', 'Daegok', 'Hwajeong', 'Wondang', 'Wonheung', 'Samsong', 'Jichuk', 'Gupabal', 'Yeonsinnae', 'Bulgwang', 'Nokbeon', 'Hongje', 'Muakjae', 'Dongnimmun', 'Gyeongbokgung', 'Anguk', 'Jongno 3(sam)-ga', 'Euljiro 3(sam)-ga', 'Chungmuro', 'Dongguk Univ.', 'Yaksu', 'Geumho', 'Oksu', 'Apgujeong', 'Sinsa', 'Jamwon', 'Express Bus Terminal', 'Seoul Nat`l Univ. of Education', 'Nambu Bus Terminal', 'Yangjae', 'Maebong', 'Dogok', 'Daechi', 'Hangnyeoul', 'Daecheong', 'Irwon', 'Suseo', 'Garak Market', 'National Police Hospital', 'Ogeum'], ['Danggogae', 'Sanggye', 'Nowon', 'Chang-dong', 'Ssangmun', 'Suyu', 'Mia', 'Miasamgeori', 'Gireum', 'Sungshin Women`s Univ.', 'Hansung Univ.', 'Hyehwa', 'Dongdaemun', 'Dongdaemun History  Culture Park', 'Chungmuro', 'Myeong-dong', 'Hoehyeon', 'Seoul Station', 'Sookmyung Women`s Univ.', 'Samgakji', 'Sinyongsan', 'Ichon', 'Dongjak', 'Chongshin Univ.', 'Sadang', 'Namtaeryeong', 'Seonbawi', 'Seoul Racecourse Park', 'Seoul Grand Park', 'Gwacheon', 'Government Complex Gwacheon', 'Indeogwon', 'Pyeongchon', 'Beomgye', 'Geumjeong', 'Sanbon', 'Surisan', 'Daeyami', 'Banwol', 'Sangnoksu', 'Hanyang Univ. at Ansan', 'Jungang', 'Gojan', 'Choji', 'Ansan', 'Singil oncheon', 'Jeongwang', 'Oido']]\n"
          ]
        }
      ],
      "source": [
        "\"\"\"\n",
        "Using xlrd is a good way to read excel file.\n",
        "However, because not only the package is no longer maintained but also can only read xls file, which is also deprecated, this code used pandas instead.\n",
        "(Please refer to https://github.com/python-excel/xlrd for further information regarding xlrd package)\n",
        "\"\"\"\n",
        "\n",
        "# Instead of\n",
        "# import xlrd\n",
        "# this code will\n",
        "import pandas as pd\n",
        "# because of the reasons mentioned above.\n",
        "\n",
        "\n",
        "\n",
        "\"\"\"\n",
        "Still,\n",
        "\n",
        "# Read data file\n",
        "data = xlrd.open_workbook(\"simplified_subway_info_english.xlsx\")\n",
        "data = data.sheet_by_name('Sheet1')\n",
        "\n",
        "# Store the loaded book object as a string list in subwayStation variable\n",
        "subwayStation = []\n",
        "for line in range(4) :\n",
        "    cur = [x for x in data.col_values(line) if x]    \n",
        "    subwayStation.append(cur[1:])\n",
        "\n",
        "\"\"\""
      ]
    }
  ]
}